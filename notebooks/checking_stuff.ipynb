{
 "cells": [
  {
   "cell_type": "code",
   "execution_count": 1,
   "id": "26a982d9-6992-4181-b211-0129f602868f",
   "metadata": {},
   "outputs": [
    {
     "name": "stdout",
     "output_type": "stream",
     "text": [
      "/app\n"
     ]
    },
    {
     "name": "stderr",
     "output_type": "stream",
     "text": [
      "/home/salih/venv/lib/python3.10/site-packages/IPython/core/magics/osm.py:417: UserWarning: This is now an optional IPython functionality, setting dhist requires you to install the `pickleshare` library.\n",
      "  self.shell.db['dhist'] = compress_dhist(dhist)[-100:]\n"
     ]
    }
   ],
   "source": [
    "cd /app"
   ]
  },
  {
   "cell_type": "code",
   "execution_count": 2,
   "id": "098416ff-778c-4adc-b318-d569f2baf196",
   "metadata": {},
   "outputs": [],
   "source": [
    "from cybulde.utils.utils import SpellCorrectionModel\n",
    "from cybulde.data_processing.dataset_cleaners import SpellCorrectionDatasetCleaner"
   ]
  },
  {
   "cell_type": "code",
   "execution_count": 3,
   "id": "60f346f6-9531-48e7-9f94-adeb09c8f507",
   "metadata": {},
   "outputs": [],
   "source": [
    "spell_correction_model = SpellCorrectionModel()\n",
    "cleaner = SpellCorrectionDatasetCleaner(spell_correction_model=spell_correction_model)\n"
   ]
  },
  {
   "cell_type": "code",
   "execution_count": 6,
   "id": "63f065cb-8dd5-45b8-a669-1cb4ff0fc1e8",
   "metadata": {},
   "outputs": [],
   "source": [
    "text = \"in te dhird qarter oflast jear he hadlearned ofca sekretplan\""
   ]
  },
  {
   "cell_type": "code",
   "execution_count": 7,
   "id": "c72a6fa7-c1d2-41fb-9100-34c39b86e95f",
   "metadata": {},
   "outputs": [
    {
     "data": {
      "text/plain": [
       "'in the third quarter of last year he had learned of a secret plan'"
      ]
     },
     "execution_count": 7,
     "metadata": {},
     "output_type": "execute_result"
    }
   ],
   "source": [
    "cleaner(text)"
   ]
  },
  {
   "cell_type": "code",
   "execution_count": null,
   "id": "d524d31b-3f1f-47d1-96d9-460e77bb7cc3",
   "metadata": {},
   "outputs": [],
   "source": []
  }
 ],
 "metadata": {
  "kernelspec": {
   "display_name": "Python 3 (ipykernel)",
   "language": "python",
   "name": "python3"
  },
  "language_info": {
   "codemirror_mode": {
    "name": "ipython",
    "version": 3
   },
   "file_extension": ".py",
   "mimetype": "text/x-python",
   "name": "python",
   "nbconvert_exporter": "python",
   "pygments_lexer": "ipython3",
   "version": "3.10.15"
  }
 },
 "nbformat": 4,
 "nbformat_minor": 5
}
